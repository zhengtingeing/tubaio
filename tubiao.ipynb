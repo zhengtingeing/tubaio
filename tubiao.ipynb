{
 "cells": [
  {
   "cell_type": "code",
   "execution_count": 1,
   "metadata": {
    "collapsed": true
   },
   "outputs": [],
   "source": [
    "import pandas as pd"
   ]
  },
  {
   "cell_type": "code",
   "execution_count": 2,
   "metadata": {
    "collapsed": false
   },
   "outputs": [
    {
     "name": "stdout",
     "output_type": "stream",
     "text": [
      "['jiuye.csv', 'laiyuan.csv']\n"
     ]
    }
   ],
   "source": [
    "import glob\n",
    "print(glob.glob(\"*.csv\"))"
   ]
  },
  {
   "cell_type": "code",
   "execution_count": 3,
   "metadata": {
    "collapsed": false
   },
   "outputs": [],
   "source": [
    "df_jiuye = pd.read_table(\"jiuye.csv\",   # 档名\n",
    "                       encoding = 'utf8',       # 编码\n",
    "                       header = 3,              # 指定数据的标题为原始数据之第3行\n",
    "                       skiprows = [35,36],      # 原始数据之第35, 36行跳过不计\n",
    "                       sep =','                 # 分隔符设为',' read_table内置分隔符为\\t\n",
    "                      )\n",
    "df_laiyuan = pd.read_table(\"laiyuan.csv\",   # 档名\n",
    "                       encoding = 'utf8',       # 编码\n",
    "                       header = 3,              # 指定数据的标题为原始数据之第3行\n",
    "                       skiprows = [35,36],      # 原始数据之第35, 36行跳过不计\n",
    "                       sep =','                 # 分隔符设为',' read_table内置分隔符为\\t\n",
    "                      )"
   ]
  },
  {
   "cell_type": "code",
   "execution_count": 4,
   "metadata": {
    "collapsed": false
   },
   "outputs": [],
   "source": [
    "df = df_jiuye\n",
    "df.columns = [ int(x.replace('年','')) if x!='地区' else x for x in df.columns]\n",
    "years = [ x for x in df.columns if x!='地区'] \n",
    "df_melted = pd.melt(df, id_vars=['地区'], value_vars=years)\n",
    "df_melted.columns = ['地区', '年', '个体户数']\n",
    "df_jiuye_done = df_melted"
   ]
  },
  {
   "cell_type": "code",
   "execution_count": 5,
   "metadata": {
    "collapsed": true
   },
   "outputs": [],
   "source": [
    "df = df_laiyuan\n",
    "df.columns = [ int(x.replace('年','')) if x!='地区' else x for x in df.columns]\n",
    "years = [ x for x in df.columns if x!='地区'] \n",
    "df_melted = pd.melt(df, id_vars=['地区'], value_vars=years)\n",
    "df_melted.columns = ['地区', '年', '收入来源']\n",
    "df_laiyuan_done = df_melted"
   ]
  },
  {
   "cell_type": "code",
   "execution_count": 6,
   "metadata": {
    "collapsed": false
   },
   "outputs": [],
   "source": [
    "df_p = df_jiuye_done.join(df_laiyuan_done,lsuffix='', rsuffix='_laiyuan')"
   ]
  },
  {
   "cell_type": "code",
   "execution_count": 7,
   "metadata": {
    "collapsed": true
   },
   "outputs": [],
   "source": [
    "df_pp = df_p.drop([\"地区_laiyuan\",\"年_laiyuan\"], axis=1).set_index([\"地区\",\"年\"])"
   ]
  },
  {
   "cell_type": "code",
   "execution_count": 8,
   "metadata": {
    "collapsed": true
   },
   "outputs": [],
   "source": [
    "import matplotlib as mpl\n",
    "import matplotlib.pyplot as plt\n",
    "import pylab\n",
    "mpl.rcParams['font.sans-serif']=['SimHei']\n",
    "mpl.rcParams['axes.unicode_minus']=False"
   ]
  },
  {
   "cell_type": "code",
   "execution_count": 9,
   "metadata": {
    "collapsed": false
   },
   "outputs": [
    {
     "data": {
      "text/plain": [
       "<matplotlib.axes._subplots.AxesSubplot at 0x161fe3eeef0>"
      ]
     },
     "execution_count": 9,
     "metadata": {},
     "output_type": "execute_result"
    },
    {
     "data": {
      "image/png": "[encoded data removed]",
      "text/plain": [
       "<matplotlib.figure.Figure at 0x161fb3e3cc0>"
      ]
     },
     "metadata": {},
     "output_type": "display_data"
    }
   ],
   "source": [
    "%matplotlib inline\n",
    "df_pp.query(\"年==2006\").plot(kind='scatter', x='个体户数', y='收入来源', \n",
    "          title = '个体户数与收入来源的关系：分省数据')"
   ]
  },
  {
   "cell_type": "code",
   "execution_count": null,
   "metadata": {
    "collapsed": true
   },
   "outputs": [],
   "source": []
  }
 ],
 "metadata": {
  "kernelspec": {
   "display_name": "Python 3",
   "language": "python",
   "name": "python3"
  },
  "language_info": {
   "codemirror_mode": {
    "name": "ipython",
    "version": 3
   },
   "file_extension": ".py",
   "mimetype": "text/x-python",
   "name": "python",
   "nbconvert_exporter": "python",
   "pygments_lexer": "ipython3",
   "version": "3.6.0"
  }
 },
 "nbformat": 4,
 "nbformat_minor": 2
}
